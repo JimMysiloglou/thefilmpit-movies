{
 "cells": [
  {
   "cell_type": "markdown",
   "id": "47a71aea",
   "metadata": {},
   "source": [
    "# FilmPit movies\n",
    "---------------------------\n",
    "The FilmPit is a podcast creating reviews for low-budget movies. I created this notebook to collect movie titles and information."
   ]
  },
  {
   "cell_type": "code",
   "execution_count": 1,
   "id": "98fa635f",
   "metadata": {},
   "outputs": [],
   "source": [
    "import requests\n",
    "from bs4 import BeautifulSoup\n",
    "import time\n",
    "import pandas as pd\n",
    "import numpy as np\n",
    "from os import path"
   ]
  },
  {
   "cell_type": "markdown",
   "id": "af256929",
   "metadata": {},
   "source": [
    "## Scraping titles from filmpit site"
   ]
  },
  {
   "cell_type": "code",
   "execution_count": 2,
   "id": "05eb7a04",
   "metadata": {},
   "outputs": [],
   "source": [
    "# Checking if file already exist otherwise scrapes titles from the filmpit site using requests and BeautifulSoup\n",
    "if path.exists(path.join('datasets','movie_titles.csv')):\n",
    "    movie_titles = pd.read_csv(path.join('datasets', 'movie_titles.csv')).squeeze('columns')\n",
    "else:\n",
    "    URL = \"https://thefilmpit.com\"\n",
    "\n",
    "    def get_movies_title(URL):\n",
    "        \"\"\"Scrapes podcasts hrefs to get movie titles\"\"\"\n",
    "        movie_titles = []\n",
    "        page = requests.get(URL)\n",
    "        next_link = None   \n",
    "        if page.ok:\n",
    "            soup = BeautifulSoup(page.content, 'html.parser')\n",
    "            try:\n",
    "                next_link = soup.find('link', {'rel':'next',}).get('href') # checking for next page\n",
    "            except AttributeError:\n",
    "                print(\"This page hasn't a next link\")\n",
    "            for podcast in soup.find_all('a', attrs={'rel':'bookmark'}): # getting titles from hrefs and clean them\n",
    "                podcast_link = podcast.get('href')\n",
    "                title = podcast_link.split('/')[-2].replace('-', ' ')\n",
    "                movie_titles.append(title)\n",
    "        return movie_titles, next_link\n",
    "\n",
    "    next_link = URL\n",
    "    movie_titles = []\n",
    "\n",
    "    while next_link:\n",
    "        print(f\"Scraping next link: {next_link}\")\n",
    "        titles, next_link = get_movies_title(next_link)\n",
    "        movie_titles += titles\n",
    "        time.sleep(5)\n",
    "    print(\"Scraping finished.\")"
   ]
  },
  {
   "cell_type": "code",
   "execution_count": 3,
   "id": "fbe75edc",
   "metadata": {},
   "outputs": [],
   "source": [
    "if not path.exists(path.join('datasets','movie_titles.csv')):\n",
    "    movie_titles += ['never too young to die', 'Dr Caligari', 'Yeti'] # plus 3 movies that don't exist on the site\n",
    "    movie_titles = pd.Series(movie_titles)\n",
    "    \n",
    "    fixed_titles = {'diagalaxiaki poiotita galaxy of terror': 'galaxy of terror',\n",
    "                    'i scholi tou gkontfrei sakura killers': 'sakura killers',\n",
    "                    'exairetika petsino podkast the punisher': 'the punisher',\n",
    "                    'o rambu tis indonisias einai edo': 'Rambu aka The Intruder',\n",
    "                    'tha einai san star gouorz alla den tha einai star gouorz battle beyond the stars': 'battle beyond the stars',\n",
    "                    'brady idrotas kai pioti tie night stalker': 'night stalker',\n",
    "                    'pao na kano penintarika double dragon': 'double dragon',\n",
    "                    'mousikorama shock em dead': 'shock em dead',\n",
    "                    'asiatiki tourne 3 undefeatable': 'undefeatable',\n",
    "                    'asiatiki tourne 2 w is war': 'w is war',\n",
    "                    'asiatiki tourne 1 for your height only': 'for your height only',\n",
    "                    'ena mikro mousiko breik rappin': 'rappin',\n",
    "                    'dark night of the scarecrow feat elina dimitriadi': 'dark night of the scarecrow',\n",
    "                    'prom night feat elina dimitriadi': 'prom night',\n",
    "                    'aerobicide': 'Killer Workout',\n",
    "                    'an american hippie in paris': 'An American Hippie in Israel',\n",
    "                    'tc2000': 'tc 2000',\n",
    "                    'american ninia': 'american ninja',\n",
    "                    'class of nukem high': \"Class of Nuke 'Em High\",\n",
    "                    'superman 4': \"superman iv\"\n",
    "                    }\n",
    "\n",
    "    movie_titles.replace(fixed_titles, inplace=True)\n",
    "    movie_titles.drop([91, 109], inplace=True)"
   ]
  },
  {
   "cell_type": "code",
   "execution_count": 4,
   "id": "83109ace",
   "metadata": {},
   "outputs": [],
   "source": [
    "if not path.exists(path.join('datasets','movie_titles.csv')):\n",
    "    movie_titles.to_csv(path.join('datasets','movie_titles.csv'), index=False, header=['titles'])"
   ]
  },
  {
   "cell_type": "markdown",
   "id": "e1ad513a",
   "metadata": {},
   "source": [
    "## Get movie info from TMDB\n",
    "\n",
    "I'm going to use tmdbv3api library to collect information from [The Movie Database](https://www.themoviedb.org)."
   ]
  },
  {
   "cell_type": "code",
   "execution_count": 5,
   "id": "ea04eb41",
   "metadata": {},
   "outputs": [],
   "source": [
    "if path.exists(path.join('datasets','movies_tmdb.csv')):\n",
    "    movies_tmdb = pd.read_csv(path.join('datasets','movies_tmdb.csv'), index_col=0)\n",
    "else:\n",
    "    from tmdbv3api import TMDb\n",
    "    from config import config\n",
    "    tmdb = TMDb()\n",
    "    tmdb.api_key = config['tmdb_api_key'] # api key is free with a simple registration on TMDB\n",
    "\n",
    "    from tmdbv3api import Movie\n",
    "    movie = Movie()\n",
    "\n",
    "    basic_info = {}\n",
    "    not_found = []\n",
    "    for title in movie_titles.to_list():\n",
    "        print('Fetching ' + title)\n",
    "        try:\n",
    "            basic_info[title] = movie.search(title)[0] # getting the first search result\n",
    "        except IndexError:\n",
    "            not_found.append(title) # Making a list for movies that weren't found\n",
    "\n",
    "    print('Movies not found: ', not_found)"
   ]
  },
  {
   "cell_type": "code",
   "execution_count": 6,
   "id": "57828570",
   "metadata": {},
   "outputs": [],
   "source": [
    "# Check fetced titles to inspect if they are right\n",
    "if not path.exists(path.join('datasets','movies_tmdb.csv')):\n",
    "    for title in movie_titles.to_list():\n",
    "        if basic_info.get(title):\n",
    "            print(title, ': ', basic_info[title]['title'], basic_info[title]['release_date'][:4])"
   ]
  },
  {
   "cell_type": "code",
   "execution_count": 7,
   "id": "f7722cee",
   "metadata": {},
   "outputs": [],
   "source": [
    "if not path.exists(path.join('datasets','movies_tmdb.csv')):\n",
    "    \n",
    "    # Correcting wrong matches with the right id_key\n",
    "    wrong_matches = {'Rambu aka The Intruder': '81944',\n",
    "                     'lambada set the night on fire': '117269',\n",
    "                     'the baby': '28156',\n",
    "                     'conquest': '27232',\n",
    "                     'suburbia': '28054',\n",
    "                     'warlock': '11342',\n",
    "                     'to kako': '39897',\n",
    "                     'commander': '205697',\n",
    "                     'captain america': '13995',\n",
    "                     'star wars holiday special': '74849',\n",
    "                     'the punisher': '8867',\n",
    "                     'night stalker':'66474',\n",
    "                     'the perfect weapon': '34421',\n",
    "                     'the rage': '114936',\n",
    "                     'warbirds': '219359',\n",
    "                     'arena': '44796',\n",
    "                     'jack frost': '27318',\n",
    "                     'elves': '30452',\n",
    "                     'prom night': '36599',\n",
    "                     'cheerleader camp': '40087',\n",
    "                     'endgame': '28850',\n",
    "                     'thunder': '109104',\n",
    "                     'Dr Caligari': '35642',\n",
    "                     'Yeti': '92316'}\n",
    "    \n",
    "\n",
    "    movie_ids = {title:info['id'] for title, info in basic_info.items()}\n",
    "    movie_ids.update(wrong_matches)"
   ]
  },
  {
   "cell_type": "code",
   "execution_count": 8,
   "id": "e7a89b3a",
   "metadata": {},
   "outputs": [],
   "source": [
    "if not path.exists(path.join('datasets','movies_tmdb.csv')):\n",
    "    print('Starting api request')\n",
    "    movie_records = {}\n",
    "    for title, id in movie_ids.items():\n",
    "        \n",
    "        # Now will get detailed info for each movie\n",
    "        print(f\"Fetching {title}\")\n",
    "        mov = movie.details(id)\n",
    "        temp_list = [\n",
    "            mov.imdb_id,\n",
    "            mov.original_title,\n",
    "            mov.budget,\n",
    "            mov.revenue,\n",
    "            mov.runtime,\n",
    "            mov.popularity,\n",
    "            [company['name'] for company in mov.production_companies],\n",
    "            [key['name'] for key in mov.keywords.keywords],\n",
    "            [act['name'] for act in mov.casts.cast],\n",
    "            mov.overview\n",
    "        ]\n",
    "        movie_records[mov.title] = temp_list\n",
    "    \n",
    "    print('TMDB request finished')\n",
    "    columns = ['imdb_id',\n",
    "               'original_title',\n",
    "               'budget',\n",
    "               'revenue',\n",
    "               'runtime',\n",
    "               'popularity',\n",
    "               'production_companies',\n",
    "               'keywords',\n",
    "               'cast',\n",
    "               'overview'\n",
    "              ]\n",
    "    movies_tmdb = pd.DataFrame.from_dict(movie_records, orient='index', columns=columns)"
   ]
  },
  {
   "cell_type": "code",
   "execution_count": 9,
   "id": "6ebc0d2b",
   "metadata": {},
   "outputs": [
    {
     "data": {
      "text/html": [
       "<div>\n",
       "<style scoped>\n",
       "    .dataframe tbody tr th:only-of-type {\n",
       "        vertical-align: middle;\n",
       "    }\n",
       "\n",
       "    .dataframe tbody tr th {\n",
       "        vertical-align: top;\n",
       "    }\n",
       "\n",
       "    .dataframe thead th {\n",
       "        text-align: right;\n",
       "    }\n",
       "</style>\n",
       "<table border=\"1\" class=\"dataframe\">\n",
       "  <thead>\n",
       "    <tr style=\"text-align: right;\">\n",
       "      <th></th>\n",
       "      <th>imdb_id</th>\n",
       "      <th>original_title</th>\n",
       "      <th>budget</th>\n",
       "      <th>revenue</th>\n",
       "      <th>runtime</th>\n",
       "      <th>popularity</th>\n",
       "      <th>overview</th>\n",
       "    </tr>\n",
       "  </thead>\n",
       "  <tbody>\n",
       "    <tr>\n",
       "      <th>Raw Nerve</th>\n",
       "      <td>tt0102761</td>\n",
       "      <td>Raw Nerve</td>\n",
       "      <td>NaN</td>\n",
       "      <td>NaN</td>\n",
       "      <td>91.0</td>\n",
       "      <td>1.327</td>\n",
       "      <td>A race car driver has visions of the victims o...</td>\n",
       "    </tr>\n",
       "    <tr>\n",
       "      <th>Raw Justice</th>\n",
       "      <td>tt0110948</td>\n",
       "      <td>Raw Justice</td>\n",
       "      <td>NaN</td>\n",
       "      <td>NaN</td>\n",
       "      <td>95.0</td>\n",
       "      <td>8.814</td>\n",
       "      <td>The mayor of a small town hires a bounty hunte...</td>\n",
       "    </tr>\n",
       "  </tbody>\n",
       "</table>\n",
       "</div>"
      ],
      "text/plain": [
       "               imdb_id original_title  budget  revenue  runtime  popularity  \\\n",
       "Raw Nerve    tt0102761      Raw Nerve     NaN      NaN     91.0       1.327   \n",
       "Raw Justice  tt0110948    Raw Justice     NaN      NaN     95.0       8.814   \n",
       "\n",
       "                                                      overview  \n",
       "Raw Nerve    A race car driver has visions of the victims o...  \n",
       "Raw Justice  The mayor of a small town hires a bounty hunte...  "
      ]
     },
     "execution_count": 9,
     "metadata": {},
     "output_type": "execute_result"
    }
   ],
   "source": [
    "# flagging zero as missing value\n",
    "movies_tmdb[['budget', 'revenue', 'runtime']] = movies_tmdb[['budget', 'revenue', 'runtime']].replace({0: np.nan})\n",
    "\n",
    "movies_tmdb.head(2)"
   ]
  },
  {
   "cell_type": "code",
   "execution_count": 10,
   "id": "cad50166",
   "metadata": {},
   "outputs": [],
   "source": [
    "# creating a different csv file for each dense field\n",
    "if not path.exists(path.join('datasets','companies.csv')):\n",
    "    companies = (movies_tmdb[['imdb_id', 'production_companies']]\n",
    "                 .reset_index()\n",
    "                 .rename(columns={'index':'title'})\n",
    "                 .explode(column='production_companies')\n",
    "                 .dropna().reset_index(drop=True)).copy()\n",
    "    companies.to_csv(path.join('datasets','companies.csv'), index=False)"
   ]
  },
  {
   "cell_type": "code",
   "execution_count": 11,
   "id": "288e1509",
   "metadata": {},
   "outputs": [],
   "source": [
    "if not path.exists(path.join('datasets','cast.csv')):\n",
    "    cast = (movies_tmdb[['imdb_id', 'cast']]\n",
    "             .reset_index()\n",
    "             .rename(columns={'index':'title'})\n",
    "             .explode(column='cast')\n",
    "             .dropna().reset_index(drop=True)).copy()\n",
    "    cast.to_csv(path.join('datasets','cast.csv'), index=False)"
   ]
  },
  {
   "cell_type": "code",
   "execution_count": 12,
   "id": "032fe544",
   "metadata": {},
   "outputs": [],
   "source": [
    "if not path.exists(path.join('datasets','keywords.csv')):\n",
    "    keywords = (movies_tmdb[['imdb_id', 'keywords']]\n",
    "                .reset_index().rename(columns={'index':'title'})\n",
    "                .explode(column='keywords')\n",
    "                .dropna().reset_index(drop=True).copy())\n",
    "    keywords.to_csv(path.join('datasets', 'keywords.csv'), index=False)"
   ]
  },
  {
   "cell_type": "code",
   "execution_count": 13,
   "id": "9e368642",
   "metadata": {},
   "outputs": [
    {
     "data": {
      "text/plain": [
       "Index(['imdb_id', 'original_title', 'budget', 'revenue', 'runtime',\n",
       "       'popularity', 'overview'],\n",
       "      dtype='object')"
      ]
     },
     "execution_count": 13,
     "metadata": {},
     "output_type": "execute_result"
    }
   ],
   "source": [
    "movies_tmdb.columns"
   ]
  },
  {
   "cell_type": "code",
   "execution_count": 14,
   "id": "afc373c3",
   "metadata": {},
   "outputs": [],
   "source": [
    "if not path.exists(path.join('datasets','movies_tmdb.csv')):\n",
    "    movies_tmdb.drop(columns=['production_companies', 'keywords', 'cast'], inplace=True)\n",
    "    movies_tmdb.to_csv(path.join('datasets','movies_tmdb.csv'))"
   ]
  },
  {
   "cell_type": "markdown",
   "id": "4e4c3b9e",
   "metadata": {},
   "source": [
    "## Get movie info from OMDB\n",
    "First I tried omdb python library but I had more luck with the Open Movie Database api. I used imdb_id field from TMDB to get extra info from OMDB."
   ]
  },
  {
   "cell_type": "code",
   "execution_count": 15,
   "id": "7ad096a1",
   "metadata": {},
   "outputs": [],
   "source": [
    "if path.exists(path.join('datasets','movies_omdb.csv')):\n",
    "    movies_omdb = pd.read_csv(path.join('datasets','movies_omdb.csv'), index_col=0)\n",
    "else:\n",
    "    from config import config\n",
    "    omdb_info = {}\n",
    "    for imdb_id in movies_tmdb['imdb_id'].to_list():\n",
    "        try:\n",
    "            res = requests.get(f\"http://www.omdbapi.com/?i={imdb_id}&apikey={config['omdb_api_key']}\", timeout=3).json()\n",
    "            omdb_info[imdb_id] = [\n",
    "                res['Year'],\n",
    "                res['Rated'],\n",
    "                res['Genre'],\n",
    "                res['Director'],\n",
    "                res['Writer'],\n",
    "                res['Language'],\n",
    "                res['Country'],\n",
    "                res['Awards'],\n",
    "                res['Metascore'],\n",
    "                res['imdbRating'],\n",
    "                res['imdbVotes'],\n",
    "                [rating['Value'] for rating in res['Ratings'] if rating['Source'] == 'Rotten Tomatoes']\n",
    "            ]\n",
    "        except:\n",
    "            print(f\"Request for movie id {imdb_id} did not executed.\")"
   ]
  },
  {
   "cell_type": "code",
   "execution_count": 16,
   "id": "e6525690",
   "metadata": {},
   "outputs": [],
   "source": [
    "if not path.exists(path.join('datasets','movies_omdb.csv')):\n",
    "    columns = ['year',\n",
    "               'rated',\n",
    "               'genre',\n",
    "               'director',\n",
    "               'writer',\n",
    "               'language',\n",
    "               'country',\n",
    "               'awards',\n",
    "               'metascore',\n",
    "               'imdb_rating',\n",
    "               'imdb_votes',\n",
    "               'rotten_rating']\n",
    "    movies_omdb = pd.DataFrame.from_dict(omdb_info, orient='index', columns=columns)\n",
    "    movies_omdb = movies_omdb.reset_index().rename(columns={'index': 'imdb_id'})\n",
    "    movies_omdb.replace({'N/A': np.nan}, inplace=True)\n",
    "    \n",
    "    # some cleaning for the rating columns\n",
    "    movies_omdb['imdb_votes'] = movies_omdb['imdb_votes'].str.replace(',', '').astype(int)\n",
    "    movies_omdb['rotten_rating'] = movies_omdb.rotten_rating.apply(lambda x: x[0] if x else np.nan).str.replace('%', '').astype(float)\n",
    "    movies_omdb['imdb_rating'] = movies_omdb.imdb_rating.astype(float)\n",
    "    movies_omdb['metascore'] = movies_omdb.metascore.astype(float)"
   ]
  },
  {
   "cell_type": "code",
   "execution_count": 17,
   "id": "17393d87",
   "metadata": {},
   "outputs": [
    {
     "data": {
      "text/html": [
       "<div>\n",
       "<style scoped>\n",
       "    .dataframe tbody tr th:only-of-type {\n",
       "        vertical-align: middle;\n",
       "    }\n",
       "\n",
       "    .dataframe tbody tr th {\n",
       "        vertical-align: top;\n",
       "    }\n",
       "\n",
       "    .dataframe thead th {\n",
       "        text-align: right;\n",
       "    }\n",
       "</style>\n",
       "<table border=\"1\" class=\"dataframe\">\n",
       "  <thead>\n",
       "    <tr style=\"text-align: right;\">\n",
       "      <th></th>\n",
       "      <th>imdb_id</th>\n",
       "      <th>year</th>\n",
       "      <th>rated</th>\n",
       "      <th>genre</th>\n",
       "      <th>director</th>\n",
       "      <th>writer</th>\n",
       "      <th>language</th>\n",
       "      <th>country</th>\n",
       "      <th>awards</th>\n",
       "      <th>metascore</th>\n",
       "      <th>imdb_rating</th>\n",
       "      <th>imdb_votes</th>\n",
       "      <th>rotten_rating</th>\n",
       "    </tr>\n",
       "  </thead>\n",
       "  <tbody>\n",
       "    <tr>\n",
       "      <th>0</th>\n",
       "      <td>tt0102761</td>\n",
       "      <td>1991</td>\n",
       "      <td>R</td>\n",
       "      <td>Drama, Mystery, Thriller</td>\n",
       "      <td>David A. Prior</td>\n",
       "      <td>Jason Coleman, David A. Prior, Lawrence L. Sim...</td>\n",
       "      <td>English</td>\n",
       "      <td>United States</td>\n",
       "      <td>NaN</td>\n",
       "      <td>NaN</td>\n",
       "      <td>4.0</td>\n",
       "      <td>297</td>\n",
       "      <td>NaN</td>\n",
       "    </tr>\n",
       "    <tr>\n",
       "      <th>1</th>\n",
       "      <td>tt0110948</td>\n",
       "      <td>1994</td>\n",
       "      <td>R</td>\n",
       "      <td>Action, Thriller</td>\n",
       "      <td>David A. Prior</td>\n",
       "      <td>David A. Prior</td>\n",
       "      <td>English</td>\n",
       "      <td>United States</td>\n",
       "      <td>1 win</td>\n",
       "      <td>NaN</td>\n",
       "      <td>4.1</td>\n",
       "      <td>1343</td>\n",
       "      <td>NaN</td>\n",
       "    </tr>\n",
       "  </tbody>\n",
       "</table>\n",
       "</div>"
      ],
      "text/plain": [
       "     imdb_id  year rated                     genre        director  \\\n",
       "0  tt0102761  1991     R  Drama, Mystery, Thriller  David A. Prior   \n",
       "1  tt0110948  1994     R          Action, Thriller  David A. Prior   \n",
       "\n",
       "                                              writer language        country  \\\n",
       "0  Jason Coleman, David A. Prior, Lawrence L. Sim...  English  United States   \n",
       "1                                     David A. Prior  English  United States   \n",
       "\n",
       "  awards  metascore  imdb_rating  imdb_votes  rotten_rating  \n",
       "0    NaN        NaN          4.0         297            NaN  \n",
       "1  1 win        NaN          4.1        1343            NaN  "
      ]
     },
     "execution_count": 17,
     "metadata": {},
     "output_type": "execute_result"
    }
   ],
   "source": [
    "movies_omdb.head(2)"
   ]
  },
  {
   "cell_type": "code",
   "execution_count": 18,
   "id": "af1f8bdd",
   "metadata": {},
   "outputs": [
    {
     "name": "stdout",
     "output_type": "stream",
     "text": [
      "<class 'pandas.core.frame.DataFrame'>\n",
      "RangeIndex: 114 entries, 0 to 113\n",
      "Data columns (total 13 columns):\n",
      " #   Column         Non-Null Count  Dtype  \n",
      "---  ------         --------------  -----  \n",
      " 0   imdb_id        114 non-null    object \n",
      " 1   year           114 non-null    object \n",
      " 2   rated          103 non-null    object \n",
      " 3   genre          114 non-null    object \n",
      " 4   director       114 non-null    object \n",
      " 5   writer         113 non-null    object \n",
      " 6   language       114 non-null    object \n",
      " 7   country        114 non-null    object \n",
      " 8   awards         26 non-null     object \n",
      " 9   metascore      27 non-null     float64\n",
      " 10  imdb_rating    114 non-null    float64\n",
      " 11  imdb_votes     114 non-null    int64  \n",
      " 12  rotten_rating  45 non-null     float64\n",
      "dtypes: float64(3), int64(1), object(9)\n",
      "memory usage: 11.7+ KB\n"
     ]
    }
   ],
   "source": [
    "movies_omdb.info()"
   ]
  },
  {
   "cell_type": "code",
   "execution_count": 19,
   "id": "e6f3be0e",
   "metadata": {},
   "outputs": [],
   "source": [
    "# Because there are 5 fields with dense info I created a function to make a separate csv file for each\n",
    "def create_sup_tables(column, f_name):\n",
    "    \"\"\"\n",
    "    The fuction picks a dataframe column, splits values by coma,\n",
    "    creates different columns and writes the new dataframe\n",
    "    to a csv file based on f_name\n",
    "    \"\"\"\n",
    "    df = movies_omdb[['imdb_id', column]].copy()\n",
    "    df[column] = df[column].str.split(',')\n",
    "    df = df.explode(column=column)\n",
    "    df[column] = df[column].str.strip()\n",
    "    df.dropna(inplace=True)\n",
    "    df.reset_index(drop=True, inplace=True)\n",
    "    df.to_csv(path.join('datasets', f_name), index=False)"
   ]
  },
  {
   "cell_type": "code",
   "execution_count": 20,
   "id": "4ea97189",
   "metadata": {},
   "outputs": [],
   "source": [
    "if not path.exists(path.join('datasets','genres.csv')):\n",
    "    create_sup_tables('genre', 'genres.csv')\n",
    "    \n",
    "if not path.exists(path.join('datasets','writers.csv')):\n",
    "    create_sup_tables('writer', 'writers.csv')\n",
    "    \n",
    "if not path.exists(path.join('datasets','countries.csv')):\n",
    "    create_sup_tables('country', 'countries.csv')\n",
    "    \n",
    "if not path.exists(path.join('datasets','languages.csv')):\n",
    "    create_sup_tables('language', 'languages.csv')\n",
    "    \n",
    "if not path.exists(path.join('datasets','directors.csv')):\n",
    "    create_sup_tables('director', 'directors.csv')"
   ]
  },
  {
   "cell_type": "code",
   "execution_count": 21,
   "id": "9af01f83",
   "metadata": {},
   "outputs": [],
   "source": [
    "if not path.exists(path.join('datasets','movies_omdb.csv')):\n",
    "    movies_omdb.drop(columns=['genre', 'writer', 'country', 'director', 'language'], inplace=True)\n",
    "    movies_omdb.to_csv(path.join('datasets','movies_omdb.csv'))"
   ]
  },
  {
   "cell_type": "code",
   "execution_count": 22,
   "id": "cc25b054",
   "metadata": {},
   "outputs": [],
   "source": [
    "# merge our two datasets\n",
    "movies = movies_tmdb.reset_index().rename(columns={'index':'title'}).merge(movies_omdb, how='inner', on='imdb_id')"
   ]
  },
  {
   "cell_type": "code",
   "execution_count": 23,
   "id": "b1b2f7c5",
   "metadata": {},
   "outputs": [
    {
     "name": "stdout",
     "output_type": "stream",
     "text": [
      "<class 'pandas.core.frame.DataFrame'>\n",
      "Int64Index: 114 entries, 0 to 113\n",
      "Data columns (total 15 columns):\n",
      " #   Column          Non-Null Count  Dtype  \n",
      "---  ------          --------------  -----  \n",
      " 0   title           114 non-null    object \n",
      " 1   imdb_id         114 non-null    object \n",
      " 2   original_title  114 non-null    object \n",
      " 3   budget          32 non-null     float64\n",
      " 4   revenue         25 non-null     float64\n",
      " 5   runtime         113 non-null    float64\n",
      " 6   popularity      114 non-null    float64\n",
      " 7   overview        114 non-null    object \n",
      " 8   year            114 non-null    object \n",
      " 9   rated           103 non-null    object \n",
      " 10  awards          26 non-null     object \n",
      " 11  metascore       27 non-null     float64\n",
      " 12  imdb_rating     114 non-null    float64\n",
      " 13  imdb_votes      114 non-null    int64  \n",
      " 14  rotten_rating   45 non-null     float64\n",
      "dtypes: float64(7), int64(1), object(7)\n",
      "memory usage: 14.2+ KB\n"
     ]
    }
   ],
   "source": [
    "movies.info()"
   ]
  },
  {
   "cell_type": "code",
   "execution_count": 24,
   "id": "1b698227",
   "metadata": {},
   "outputs": [],
   "source": [
    "if not path.exists(path.join('datasets','movies.csv')):\n",
    "    movies.to_csv(path.join('datasets','movies.csv'), index=False)"
   ]
  }
 ],
 "metadata": {
  "hide_input": false,
  "kernelspec": {
   "display_name": "Python [conda env:data_science_env]",
   "language": "python",
   "name": "conda-env-data_science_env-py"
  },
  "language_info": {
   "codemirror_mode": {
    "name": "ipython",
    "version": 3
   },
   "file_extension": ".py",
   "mimetype": "text/x-python",
   "name": "python",
   "nbconvert_exporter": "python",
   "pygments_lexer": "ipython3",
   "version": "3.9.13"
  },
  "toc": {
   "base_numbering": "1",
   "nav_menu": {},
   "number_sections": false,
   "sideBar": true,
   "skip_h1_title": false,
   "title_cell": "Table of Contents",
   "title_sidebar": "Contents",
   "toc_cell": false,
   "toc_position": {},
   "toc_section_display": true,
   "toc_window_display": false
  }
 },
 "nbformat": 4,
 "nbformat_minor": 5
}
